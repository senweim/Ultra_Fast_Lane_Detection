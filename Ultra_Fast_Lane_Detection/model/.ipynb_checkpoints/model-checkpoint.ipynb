{
 "cells": [
  {
   "cell_type": "code",
   "execution_count": 1,
   "metadata": {},
   "outputs": [],
   "source": [
    "import torch\n",
    "import torch.nn as nn\n",
    "import torch.nn.functional as F\n",
    "import numpy as np\n",
    "from torchvision.models import resnet34"
   ]
  },
  {
   "cell_type": "code",
   "execution_count": 3,
   "metadata": {},
   "outputs": [],
   "source": [
    "class Conv_BN_Relu(nn.Module):\n",
    "    def __init__(self, in_channels, out_channels, kernel_size, stride=1, padding=0, dilation=1):\n",
    "        super(Conv_BN_Relu, self).__init__()\n",
    "        self.block = nn.Sequential(\n",
    "            nn.Conv2d(in_channels, out_channels, kernel_size=kernel_size, stride=stride, padding=padding, dilation=dilation, bias=False),\n",
    "            nn.BatchNorm2d(out_channels),\n",
    "            nn.ReLU()\n",
    "        )\n",
    "    \n",
    "    def forward(self, x):\n",
    "        out = self.block(x)\n",
    "        \n",
    "        return out"
   ]
  },
  {
   "cell_type": "code",
   "execution_count": 2,
   "metadata": {},
   "outputs": [],
   "source": [
    "class Backbone(nn.Module):\n",
    "    def __init__(self, pretrained=True):\n",
    "        super(Backbone, self).__init__()\n",
    "        self.conv1 = resnet34().conv1\n",
    "        self.bn1 = resnet34().bn1\n",
    "        self.relu = resnet34().relu\n",
    "        self.maxpool = resnet34().maxpool\n",
    "        self.layer1 = resnet34().layer1\n",
    "        self.layer2 = resnet34().layer2\n",
    "        self.layer3 = resnet34().layer3\n",
    "        self.layer4 = resnet34().layer4\n",
    "    \n",
    "    def _init_weights(self):\n",
    "        \n",
    "    \n",
    "    def forward(self, x):\n",
    "        out = self.conv1(x)\n",
    "        out = self.bn1(out)\n",
    "        out = self.relu(out)\n",
    "        out = self.maxpool(out)\n",
    "        out = self.layer1(out)\n",
    "        out = self.layer2(out)\n",
    "        c2 = out\n",
    "        out = self.layer3(out)\n",
    "        c3 = out\n",
    "        \n",
    "        return c2, c3"
   ]
  },
  {
   "cell_type": "code",
   "execution_count": 4,
   "metadata": {},
   "outputs": [],
   "source": [
    "class ASPP(nn.Module):\n",
    "    def __init__(self, in_channels=256, out_channels=128):\n",
    "        super(ASPP, self).__init__()\n",
    "\n",
    "        self.conv1 = Conv_BN_Relu(in_channels, out_channels, kernel_size=1)\n",
    "        self.conv2 = Conv_BN_Relu(in_channels, out_channels, kernel_size=3, padding=1, dilation=1)\n",
    "        self.conv3 = Conv_BN_Relu(in_channels, out_channels, kernel_size=3, padding=3, dilation=3)\n",
    "        self.conv4 = Conv_BN_Relu(in_channels, out_channels, kernel_size=3, padding=5, dilation=5)\n",
    "        self.conv5 = nn.Sequential(\n",
    "            nn.AdaptiveAvgPool2d((1,1)),\n",
    "            Conv_BN_Relu(in_channels, out_channels, kernel_size=1)\n",
    "        )\n",
    "        \n",
    "        \n",
    "        self.conv6 = Conv_BN_Relu(out_channels * 5, out_channels, kernel_size=1)\n",
    "    \n",
    "    def forward(self, x):\n",
    "        x1 = self.conv1(x)\n",
    "        x2 = self.conv2(x)\n",
    "        x3 = self.conv3(x)\n",
    "        x4 = self.conv4(x)        \n",
    "        x5 = self.conv1(x)\n",
    "        x5 = F.interpolate(x5, size = x.shape[-2:], mode='bilinear', align_corners=True)\n",
    "          \n",
    "        out = torch.cat((x1, x2, x3, x4, x5), dim=1)\n",
    "        out = self.conv6(out)\n",
    "        \n",
    "        return out"
   ]
  },
  {
   "cell_type": "code",
   "execution_count": 30,
   "metadata": {},
   "outputs": [],
   "source": [
    "class LaneDetectNet(nn.Module):\n",
    "    def __init__(self, num_lanes=4, num_anchors=56, num_grids=100, using_auxilary=True, pretrained=True):\n",
    "        super(LaneDetectNet, self).__init__()\n",
    "        self.feature = Backbone(pretrained=pretrained)\n",
    "        self.aspp = ASPP()\n",
    "                \n",
    "        # detection head\n",
    "        # shape of input: (n, 128, 18, 50)\n",
    "        # shape of output: (n, num_lanes, 18, 50) \n",
    "        # after bilinear interpolation -> (n, num_lanes, num_anchors, num_grids + 1)\n",
    "        self.cls_head = nn.Conv2d(128, num_lanes, kernel_size=1)\n",
    "        \n",
    "        # segmentation head\n",
    "        # shape of input: (n, 256, 36, 100)\n",
    "        # shape of output: (n, num_lanes + 1, 36, 100)\n",
    "        if using_auxilary:\n",
    "            self.seg_head = nn.Sequential(\n",
    "                Conv_BN_Relu(256, 128, kernel_size=1),\n",
    "                Conv_BN_Relu(128, 128, kernel_size=3, padding=1, dilation=1),\n",
    "                nn.Conv2d(128, num_lanes + 1, kernel_size=1)\n",
    "            )\n",
    "            # initialize weights for segmentation branch\n",
    "            init_weights(self.seg_head)\n",
    "        \n",
    "        # initialize weights for encoder and detection branch\n",
    "        if not pretrained:\n",
    "            init_weights(self.feature, self.aspp, self.cls_head)\n",
    "        else:\n",
    "            init_weights(self.aspp, self.cls_head)\n",
    "        \n",
    "        self.num_anchors = num_anchors\n",
    "        self.num_grids = num_grids\n",
    "        self.using_auxilary = using_auxilary\n",
    "        \n",
    "    def forward(self, x):\n",
    "        # encoder\n",
    "        # shape of c2: (n, 128, 36, 100)\n",
    "        # shape of c3: (n, 256, 18, 50) \n",
    "        c2, c3 = self.feature(x)\n",
    "        out = self.aspp(c3)\n",
    "        \n",
    "        # decoder branch of detection\n",
    "        out_cls = self.cls_head(out)\n",
    "        out_cls = F.interpolate(out_cls, (self.num_anchors, self.num_grids + 1), mode='bilinear', align_corners=True)\n",
    "\n",
    "        # decoder branch of segmentation, only active in train phase\n",
    "        if self.using_auxilary:\n",
    "            out_seg = F.interpolate(out, c2.shape[-2:], mode='bilinear', align_corners=True)\n",
    "            out_seg = torch.cat((out_seg, c2), dim=1)\n",
    "            out_seg = self.seg_head(out_seg)\n",
    "            \n",
    "            return out_cls, out_seg\n",
    "        \n",
    "        return out_cls     "
   ]
  },
  {
   "cell_type": "code",
   "execution_count": 33,
   "metadata": {},
   "outputs": [],
   "source": [
    "def init_weights(*models):\n",
    "    for model in models:\n",
    "        for m in model.modules():\n",
    "            if isinstance(m, nn.Conv2d):    \n",
    "                nn.init.kaiming_normal_(m.weight, nonlinearity='relu')\n",
    "                if m.bias is not None:\n",
    "                    nn.init.constant_(m.bias, 0)\n",
    "            elif isinstance(m, nn.BatchNorm2d):\n",
    "                torch.nn.init.constant_(m.weight, 1)\n",
    "                torch.nn.init.constant_(m.bias, 0)"
   ]
  },
  {
   "cell_type": "code",
   "execution_count": 34,
   "metadata": {},
   "outputs": [
    {
     "name": "stdout",
     "output_type": "stream",
     "text": [
      "shape of output from detection branch: torch.Size([5, 4, 56, 101])\n",
      "shape of output from segmentation branch: torch.Size([5, 5, 36, 100])\n"
     ]
    }
   ],
   "source": [
    "if __name__ == '__main__':\n",
    "    x = torch.randn(5,3,288,800)\n",
    "    net = LaneDetectNet()\n",
    "    out_cls, out_seg = net(x)\n",
    "    print(\"shape of output from detection branch:\", out_cls.shape)\n",
    "    print(\"shape of output from segmentation branch:\", out_seg.shape)"
   ]
  },
  {
   "cell_type": "code",
   "execution_count": null,
   "metadata": {},
   "outputs": [],
   "source": []
  }
 ],
 "metadata": {
  "kernelspec": {
   "display_name": "Python 3",
   "language": "python",
   "name": "python3"
  },
  "language_info": {
   "codemirror_mode": {
    "name": "ipython",
    "version": 3
   },
   "file_extension": ".py",
   "mimetype": "text/x-python",
   "name": "python",
   "nbconvert_exporter": "python",
   "pygments_lexer": "ipython3",
   "version": "3.7.3"
  },
  "toc": {
   "base_numbering": 1,
   "nav_menu": {},
   "number_sections": true,
   "sideBar": true,
   "skip_h1_title": false,
   "title_cell": "Table of Contents",
   "title_sidebar": "Contents",
   "toc_cell": false,
   "toc_position": {},
   "toc_section_display": true,
   "toc_window_display": false
  }
 },
 "nbformat": 4,
 "nbformat_minor": 2
}

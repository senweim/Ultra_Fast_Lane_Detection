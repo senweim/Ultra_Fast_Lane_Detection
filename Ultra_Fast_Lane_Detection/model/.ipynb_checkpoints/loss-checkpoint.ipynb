{
 "cells": [
  {
   "cell_type": "code",
   "execution_count": 4,
   "metadata": {},
   "outputs": [],
   "source": [
    "import torch\n",
    "import torch.nn as nn\n",
    "import torch.nn.functional as F\n",
    "import numpy as np"
   ]
  },
  {
   "cell_type": "code",
   "execution_count": 29,
   "metadata": {},
   "outputs": [],
   "source": [
    "def get_loss(logits, labels):\n",
    "    loss_cls = FocalLoss(gamma=2)(logits['cls'], labels['cls'])\n",
    "    loss_seg = nn.CrossEntropyLoss()(logits['seg'], labels['seg'])\n",
    "\n",
    "    return loss_cls, loss_seg"
   ]
  },
  {
   "cell_type": "code",
   "execution_count": 30,
   "metadata": {},
   "outputs": [],
   "source": [
    "class FocalLoss(nn.Module):\n",
    "    def __init__(self, gamma, weight=None):\n",
    "        super(FocalLoss, self).__init__()\n",
    "        self.gamma = gamma\n",
    "        self.nll = nn.NLLLoss(weight=weight)\n",
    "    \n",
    "    def forward(self, logits, labels):\n",
    "        scores = F.softmax(logits, dim=1)\n",
    "        factor = torch.pow(1.-scores, self.gamma)\n",
    "        log_score = F.log_softmax(logits, dim=1)\n",
    "        log_score = factor * log_score\n",
    "        loss = self.nll(log_score, labels)\n",
    "        \n",
    "        return loss"
   ]
  },
  {
   "cell_type": "code",
   "execution_count": 51,
   "metadata": {},
   "outputs": [
    {
     "name": "stdout",
     "output_type": "stream",
     "text": [
      "loss_cls = 4.948960781097412, loss_seg = 1.994678020477295\n"
     ]
    }
   ],
   "source": [
    "if __name__ == '__main__':\n",
    "    cls_out = torch.randn(2, 4, 56, 101)\n",
    "    cls_out = cls_out.permute(0, 3, 1, 2)\n",
    "    \n",
    "    seg_out = torch.randn(2, 5, 36, 100)\n",
    "    \n",
    "    label_cls = torch.argmax(torch.randn(2, 101, 4, 56), dim=1)\n",
    "    label_seg = torch.argmax(torch.randn(2, 5, 36, 100), dim=1)\n",
    "    \n",
    "    logits = {}\n",
    "    labels = {}\n",
    "    logits['cls'] = cls_out\n",
    "    logits['seg'] = seg_out\n",
    "    labels['cls'] = label_cls\n",
    "    labels['seg'] = label_seg\n",
    "    \n",
    "    loss_cls, loss_seg = get_loss(logits, labels, using_auxilary=True)\n",
    "    print('loss_cls = {}, loss_seg = {}'.format(loss_cls, loss_seg))"
   ]
  },
  {
   "cell_type": "code",
   "execution_count": null,
   "metadata": {},
   "outputs": [],
   "source": []
  }
 ],
 "metadata": {
  "kernelspec": {
   "display_name": "Python 3",
   "language": "python",
   "name": "python3"
  },
  "language_info": {
   "codemirror_mode": {
    "name": "ipython",
    "version": 3
   },
   "file_extension": ".py",
   "mimetype": "text/x-python",
   "name": "python",
   "nbconvert_exporter": "python",
   "pygments_lexer": "ipython3",
   "version": "3.7.3"
  },
  "toc": {
   "base_numbering": 1,
   "nav_menu": {},
   "number_sections": true,
   "sideBar": true,
   "skip_h1_title": false,
   "title_cell": "Table of Contents",
   "title_sidebar": "Contents",
   "toc_cell": false,
   "toc_position": {},
   "toc_section_display": true,
   "toc_window_display": false
  }
 },
 "nbformat": 4,
 "nbformat_minor": 2
}

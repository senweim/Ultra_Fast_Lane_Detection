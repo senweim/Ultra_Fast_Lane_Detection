{
 "cells": [
  {
   "cell_type": "code",
   "execution_count": 14,
   "metadata": {},
   "outputs": [],
   "source": [
    "import torch\n",
    "import torch.optim as optim\n",
    "import numpy as np\n",
    "\n",
    "from data.dataloader import get_dataloader\n",
    "from model.model import LaneDetectNet\n",
    "from config import TuSimpleConfig as cfg\n",
    "from train import train_model"
   ]
  },
  {
   "cell_type": "code",
   "execution_count": null,
   "metadata": {},
   "outputs": [],
   "source": [
    "if __name__ == '__main__':\n",
    "    parser = argparse.ArgumentParser()\n",
    "    parser.add_argument('--mode', type=int, default='train', help='option: trian, test')\n",
    "    parser.add_argument('--data_dir', type=str, default='',help='path to TuSimple Benchmark dataset')\n",
    "    flags = parser.parse_args()\n",
    "    mode = flags.mode\n",
    "    data_dir = flags.data_dir\n",
    "    \n",
    "    device = 'cuda:0' if torch.cuda.is_available() else 'cpu'\n",
    "    model = LaneDetectNet(num_lanes=cfg.num_lanes, \n",
    "                          num_anchors=cfg.num_anchors, \n",
    "                          num_grids=cfg.num_grids, \n",
    "                          using_auxilary=cfg.using_auxilary, \n",
    "                          pretrained=True).to(device)\n",
    "    \n",
    "    if mode == 'train':\n",
    "        train_meta_dir = os.path.join(data_dir, 'train_gt.txt')\n",
    "        val_meta_dir = os.path.join(data_dir, 'val_gt.txt')\n",
    "        train_loader = get_dataloader(data_dir, \n",
    "                                      train_meta_dir,\n",
    "                                      phase='train',\n",
    "                                      num_lanes=cfg.num_lanes,\n",
    "                                      num_grids=cfg.num_grids,\n",
    "                                      row_anchor=cfg.row_anchor,\n",
    "                                      using_auxilary=cfg.using_auxilary,\n",
    "                                      batch_size=cfg.batch_size,\n",
    "                                      shuffle=True,\n",
    "                                      num_workers=cfg.num_workers)\n",
    "        val_loader = get_dataloader(data_dir,\n",
    "                                    val_meta_dir,\n",
    "                                    phase='val',\n",
    "                                    num_lanes=cfg.num_lanes,\n",
    "                                    num_grids=cfg.num_grids,\n",
    "                                    row_anchor=cfg.row_anchor,\n",
    "                                    using_auxilary=cfg.using_auxilary,\n",
    "                                    batch_size=cfg.batch_size,\n",
    "                                    shuffle=False,\n",
    "                                    num_workers=cfg.num_workers)\n",
    "        \n",
    "    \n",
    "    elif mode == 'test':\n",
    "        pass\n",
    "    \n",
    "    else:\n",
    "        raise NotImplementedError"
   ]
  },
  {
   "cell_type": "code",
   "execution_count": null,
   "metadata": {},
   "outputs": [],
   "source": []
  }
 ],
 "metadata": {
  "kernelspec": {
   "display_name": "Python 3",
   "language": "python",
   "name": "python3"
  },
  "language_info": {
   "codemirror_mode": {
    "name": "ipython",
    "version": 3
   },
   "file_extension": ".py",
   "mimetype": "text/x-python",
   "name": "python",
   "nbconvert_exporter": "python",
   "pygments_lexer": "ipython3",
   "version": "3.7.3"
  },
  "toc": {
   "base_numbering": 1,
   "nav_menu": {},
   "number_sections": true,
   "sideBar": true,
   "skip_h1_title": false,
   "title_cell": "Table of Contents",
   "title_sidebar": "Contents",
   "toc_cell": false,
   "toc_position": {},
   "toc_section_display": true,
   "toc_window_display": false
  }
 },
 "nbformat": 4,
 "nbformat_minor": 2
}

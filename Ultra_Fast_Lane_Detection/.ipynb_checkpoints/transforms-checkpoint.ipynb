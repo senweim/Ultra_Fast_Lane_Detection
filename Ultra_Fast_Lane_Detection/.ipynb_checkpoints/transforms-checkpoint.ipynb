{
 "cells": [
  {
   "cell_type": "code",
   "execution_count": 14,
   "metadata": {},
   "outputs": [],
   "source": [
    "import torch\n",
    "import torchvision.transforms as transforms\n",
    "import torchvision.transforms.functional as F\n",
    "import numpy as np\n",
    "import random"
   ]
  },
  {
   "cell_type": "code",
   "execution_count": 2,
   "metadata": {},
   "outputs": [],
   "source": [
    "class Compose():\n",
    "    def __init__(self, transforms):\n",
    "        self.transforms = transforms\n",
    "    \n",
    "    def __call__(self, target_1, target_2=None):\n",
    "        if target_2 is None:\n",
    "            for T in self.transforms:\n",
    "                target_1 = T(target_1)\n",
    "            return target_1\n",
    "        \n",
    "        for T in self.transforms:\n",
    "            target_1, target_2 = T(target_1, target_2)\n",
    "        return target_1, target_2"
   ]
  },
  {
   "cell_type": "code",
   "execution_count": 3,
   "metadata": {},
   "outputs": [],
   "source": [
    "class ToTensor():\n",
    "    def __call__(self, target_1, target_2=None):\n",
    "        if target_2 is None:\n",
    "            return F.to_tensor(target_1)\n",
    "        \n",
    "        return F.to_tensor(target_1), F.to_tensor(target_2)"
   ]
  },
  {
   "cell_type": "code",
   "execution_count": null,
   "metadata": {},
   "outputs": [],
   "source": [
    "class MaskToTensor():\n",
    "    def __call__(self, mask):\n",
    "        return torch.tensor(np.array(mask)).long()"
   ]
  },
  {
   "cell_type": "code",
   "execution_count": 4,
   "metadata": {},
   "outputs": [],
   "source": [
    "class Resize():\n",
    "    def __init__(self, size, interpolation='Image.BILINEAR'):\n",
    "        self.size = size\n",
    "        self.interpolation = interpolation\n",
    "        \n",
    "    def __call__(self, target_1, target_2=None):\n",
    "        if target_2 is None:\n",
    "            return F.resize(target_1, self.size, self.interpolation)\n",
    "        \n",
    "        return F.resize(target_1, self.size, self.interpolation), F.resize(target_2, self.size, self.interpolation)"
   ]
  },
  {
   "cell_type": "code",
   "execution_count": 5,
   "metadata": {},
   "outputs": [],
   "source": [
    "class Normalize():\n",
    "    \"\"\"\n",
    "    only support one object\n",
    "    \"\"\"\n",
    "    def __init__(self, mean, std):\n",
    "        self.mean = mean\n",
    "        self.std = std\n",
    "    \n",
    "    def __call__(self, tensor):\n",
    "        return F.normalize(tensor, self.mean, self.std)"
   ]
  },
  {
   "cell_type": "code",
   "execution_count": 6,
   "metadata": {},
   "outputs": [],
   "source": [
    "class DeNormalize():\n",
    "    \"\"\"\n",
    "    only support one object\n",
    "    \"\"\"\n",
    "    def __init__(self, mean, std):\n",
    "        self.mean = mean\n",
    "        self.std = std\n",
    "    \n",
    "    def __call__(self, tensor):\n",
    "        for t, m, d in zip(tensor, self.mean, self.std):\n",
    "            t.mul_(d).add_(m)\n",
    "        return tensor"
   ]
  },
  {
   "cell_type": "code",
   "execution_count": 7,
   "metadata": {},
   "outputs": [],
   "source": [
    "class RandomRotate():\n",
    "    def __init__(self, angle):\n",
    "        self.angle = angle\n",
    "    \n",
    "    def __call__(self, img, label):\n",
    "        angle = random.randint(-self.angle, self.angle)\n",
    "        img = F.rotate(img, angle, resample=2)\n",
    "        label = F.rotate(label, angle, resample=0)\n",
    "        return img, label"
   ]
  },
  {
   "cell_type": "code",
   "execution_count": 8,
   "metadata": {},
   "outputs": [],
   "source": [
    "class RandomHorizontalShift():\n",
    "    def __init__(self, offset):\n",
    "        self.offset = offset\n",
    "    \n",
    "    def __call__(self, img, label):\n",
    "        offset = random.randint(-self.offset, self.offset)\n",
    "        w = img.width\n",
    "        \n",
    "        img = np.array(img)\n",
    "        label = np.array(label)\n",
    "    \n",
    "        img_o = np.zeros_like(img)\n",
    "        label_o = np.zeros_like(label)\n",
    "        \n",
    "        begin = max(0, offset)\n",
    "        end = min(w, w+offset)\n",
    "        \n",
    "        img_o[:, begin:end, :] = img[:, begin-offset:end-offset, :]\n",
    "        label_o[:, begin:end] = label[:, begin-offset:end-offset]\n",
    "        \n",
    "        return Image.fromarray(img_o), Image.fromarray(label_o)"
   ]
  },
  {
   "cell_type": "code",
   "execution_count": 9,
   "metadata": {},
   "outputs": [],
   "source": [
    "class RandomVerticalShift():\n",
    "    def __init__(self, offset):\n",
    "        self.offset = offset\n",
    "        \n",
    "    def __call__(self, img, label):\n",
    "        offset = random.randint(-self.offset, self.offset)\n",
    "        h = img.height\n",
    "        \n",
    "        img = np.array(img)\n",
    "        label = np.array(label)\n",
    "        \n",
    "        img_o = np.zeros_like(img)\n",
    "        label_o = np.zeros_like(label)\n",
    "        \n",
    "        begin = max(0, offset)\n",
    "        end = min(h, h+offset)\n",
    "        \n",
    "        img_o[begin:end, :, :] = img[begin-offset:end-offset, :, :]\n",
    "        label_o[begin:end, :] = label[begin-offset:end-offset, :]\n",
    "        \n",
    "        return Image.fromarray(img_o), Image.fromarray(label_o)"
   ]
  },
  {
   "cell_type": "code",
   "execution_count": null,
   "metadata": {},
   "outputs": [],
   "source": [
    "if __name__ == '__main__':\n",
    "    pass"
   ]
  },
  {
   "cell_type": "code",
   "execution_count": null,
   "metadata": {},
   "outputs": [],
   "source": []
  }
 ],
 "metadata": {
  "kernelspec": {
   "display_name": "Python 3",
   "language": "python",
   "name": "python3"
  },
  "language_info": {
   "codemirror_mode": {
    "name": "ipython",
    "version": 3
   },
   "file_extension": ".py",
   "mimetype": "text/x-python",
   "name": "python",
   "nbconvert_exporter": "python",
   "pygments_lexer": "ipython3",
   "version": "3.7.3"
  },
  "toc": {
   "base_numbering": 1,
   "nav_menu": {},
   "number_sections": true,
   "sideBar": true,
   "skip_h1_title": false,
   "title_cell": "Table of Contents",
   "title_sidebar": "Contents",
   "toc_cell": false,
   "toc_position": {},
   "toc_section_display": true,
   "toc_window_display": false
  }
 },
 "nbformat": 4,
 "nbformat_minor": 2
}
